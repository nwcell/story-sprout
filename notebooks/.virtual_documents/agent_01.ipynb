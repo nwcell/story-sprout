%reload_ext autoreload
%autoreload 2


from _setup import setup

setup()


from IPython.display import Image as NBImage
from IPython.display import display
from pydantic_ai.messages import BinaryContent


def display_agent_output(result):
    for msg_i, msg in enumerate(result.new_messages(), start=1):  # or result.all_messages()
        msg_type = getattr(msg, "__class__", type("Unknown", (), {})).__name__
        print(f"\n=== Message {msg_i}: {msg_type} ===")

        for part_i, part in enumerate(getattr(msg, "parts", []), start=1):
            part_type = getattr(part, "__class__", type("Unknown", (), {})).__name__
            print(f"  Part {part_i}: {part_type}")

            content = getattr(part, "content", None)
            if isinstance(content, list):
                for item_i, item in enumerate(content, start=1):
                    item_type = getattr(item, "__class__", type("Unknown", (), {})).__name__
                    print(f"    Item {item_i}: {item_type}")
                    if isinstance(item, BinaryContent) and item.is_image:
                        display(NBImage(data=item.data))
                    elif isinstance(item, str):
                        print(f"      Text: {item}")
            elif isinstance(content, BinaryContent) and content.is_image:
                print("    Content: BinaryContent (image)")
                display(NBImage(data=content.data))
            elif isinstance(content, str):
                print(f"    Content: Text → {content}")

            # Direct text parts (like TextPart.text)
            if hasattr(part, "text") and part.text:
                print(f"    Part.text: {part.text}")


from agent_01 import Dependencies, agent
from pydantic_ai import RunContext


@agent.instructions
async def add_story_uuid(ctx: RunContext[str]) -> str:
    return f"Story UUID: {ctx.deps.story_uuid}."


# story = Story.objects.get(uuid="067527ac-0ee5-4fe9-ad51-b316b12d5cc1")
deps = Dependencies(story_uuid="067527ac-0ee5-4fe9-ad51-b316b12d5cc1")

prompt = (
    "Generate a new illustration for page 1.  use a watercolor style"
    "The page content should be at the bottom of the image, in text format"
)

result = await agent.run(prompt, deps=deps)

# Show the assistant's final text (optional)
print(result.output)
display_agent_output(result)


result = await agent.run("what's on page 1?  what about the image?", deps=deps)
display_agent_output(result)


from agent_01 import Dependencies, agent
from apps.ai.models import Conversation

conv = Conversation.objects.filter(user_id=1).first()

# @agent.instructions
# async def add_story_uuid(ctx: RunContext[str]) -> str:
#     return f"Story UUID: {ctx.deps.story_uuid}."


# story = Story.objects.get(uuid="067527ac-0ee5-4fe9-ad51-b316b12d5cc1")
deps = Dependencies(story_uuid="067527ac-0ee5-4fe9-ad51-b316b12d5cc1")

result = await agent.run("what's on page 1?", deps=deps)

conv.add_run(result)


conv.history


await agent.run("what did i just ask you to help me with?", deps=deps, message_history=result.all_messages())


messages = result.all_messages()

for msg in messages:
    print(f"Message: {msg}")
    for part in msg.parts:
        print(f"Part: {part}")



