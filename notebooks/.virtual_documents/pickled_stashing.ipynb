%reload_ext autoreload
%autoreload 2


from _setup import setup

setup()


from IPython.display import Image as NBImage
from IPython.display import display
from pydantic_ai.messages import BinaryContent


def display_messages(messages):
    for msg_i, msg in enumerate(messages, start=1):  # or result.all_messages()
        msg_type = getattr(msg, "__class__", type("Unknown", (), {})).__name__
        print(f"\n=== Message {msg_i}: {msg_type} ===")

        for part_i, part in enumerate(getattr(msg, "parts", []), start=1):
            part_type = getattr(part, "__class__", type("Unknown", (), {})).__name__
            print(f"  Part {part_i}: {part_type}")

            content = getattr(part, "content", None)
            if isinstance(content, list):
                for item_i, item in enumerate(content, start=1):
                    item_type = getattr(item, "__class__", type("Unknown", (), {})).__name__
                    print(f"    Item {item_i}: {item_type}")
                    if isinstance(item, BinaryContent) and item.is_image:
                        display(NBImage(data=item.data))
                    elif isinstance(item, str):
                        print(f"      Text: {item}")
                    else:
                        print(f"      Content Other: {content}")
            elif isinstance(content, BinaryContent) and content.is_image:
                print("    Content: BinaryContent (image)")
                display(NBImage(data=content.data))
            elif isinstance(content, str):
                print(f"    Content: Text → {content}")
            else:
                print(f"    Content Other: {content}")

            # Direct text parts (like TextPart.text)
            if hasattr(part, "text") and part.text:
                print(f"    Part.text: {part.text}")


def display_agent_output(result):
    display_messages(result.new_messages())


from result_utils import save_result

# Save your agent result as pickle
# saved_path = save_agent_result(result, filename="my_image_generation_test")

# Or save any object directly
# saved_path = save_result(result, "agent_result_with_images")

# List all saved pickles
# list_saved_results("agent_results")

# Load a saved result later
# loaded_result = load_result(saved_path)


from apps.stories.models import Story
from pydantic_agent import Dependencies
from pydantic_agent import agent as writer_agent
from pydantic_ai import RunContext


@writer_agent.instructions
async def add_story_uuid(ctx: RunContext[str]) -> str:
    return f"Story UUID: {ctx.deps.story_uuid}."


story = Story.objects.get(uuid="067527ac-0ee5-4fe9-ad51-b316b12d5cc1")
deps = Dependencies(story=story)
prompt = (
    "Generate a new illustration for page 1.\n"
    "Use a watercolor style.\n"
    "The page content should be at the bottom of the image, in text format."
)
result = None  # load_result("results/agent_result_with_images.pkl")
if not result:
    result = await writer_agent.run(prompt, deps=deps)
    save_result(result)
display_agent_output(result)


from pydantic_ai_stash import BinaryStash, FSAdapter

storage = FSAdapter("./binary_storage")
stash = BinaryStash(storage)

messages = result.all_messages()
display_messages(messages)


stashed_messages = stash.stash_binaries_in_messages(messages)
display_messages(stashed_messages)


print(type(messages[4].content))
print(type(stashed_messages[4].content))


loaded_messages = stash.load_binaries_in_messages(stashed_messages)
display_messages(loaded_messages)
