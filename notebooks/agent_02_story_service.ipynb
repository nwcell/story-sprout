{
 "cells": [
  {
   "cell_type": "code",
   "execution_count": 1,
   "id": "aad2a450",
   "metadata": {},
   "outputs": [],
   "source": [
    "%reload_ext autoreload\n",
    "%autoreload 2\n"
   ]
  },
  {
   "cell_type": "code",
   "execution_count": 2,
   "id": "64062096",
   "metadata": {},
   "outputs": [
    {
     "name": "stdout",
     "output_type": "stream",
     "text": [
      "🔍 Calculated web service root: /Users/travis/Projects/story-sprout/services/web\n",
      "🔍 Path exists: False\n",
      "🔍 Config directory exists: False\n",
      "🔍 Python path now includes: /Users/travis/Projects/story-sprout/services/web\n",
      "✅ Django environment loaded successfully!\n",
      "📁 Web service root: /Users/travis/Projects/story-sprout/services/web\n",
      "🚀 Ready to use Django models and services\n"
     ]
    }
   ],
   "source": [
    "from _setup import setup\n",
    "\n",
    "setup()"
   ]
  },
  {
   "cell_type": "code",
   "execution_count": 6,
   "id": "db93b2e7",
   "metadata": {},
   "outputs": [],
   "source": [
    "from apps.stories.services import StoryService\n",
    "\n",
    "service = StoryService(uuid=\"067527ac-0ee5-4fe9-ad51-b316b12d5cc1\")"
   ]
  },
  {
   "cell_type": "code",
   "execution_count": 8,
   "id": "c07e7924",
   "metadata": {},
   "outputs": [
    {
     "ename": "AttributeError",
     "evalue": "'StoryAgentDeps' object has no attribute 'deps'",
     "output_type": "error",
     "traceback": [
      "\u001b[31m---------------------------------------------------------------------------\u001b[39m",
      "\u001b[31mAttributeError\u001b[39m                            Traceback (most recent call last)",
      "\u001b[36mCell\u001b[39m\u001b[36m \u001b[39m\u001b[32mIn[8]\u001b[39m\u001b[32m, line 5\u001b[39m\n\u001b[32m      2\u001b[39m \u001b[38;5;28;01mfrom\u001b[39;00m\u001b[38;5;250m \u001b[39m\u001b[34;01mapps\u001b[39;00m\u001b[34;01m.\u001b[39;00m\u001b[34;01mai\u001b[39;00m\u001b[34;01m.\u001b[39;00m\u001b[34;01mengine\u001b[39;00m\u001b[34;01m.\u001b[39;00m\u001b[34;01mtools\u001b[39;00m\u001b[38;5;250m \u001b[39m\u001b[38;5;28;01mimport\u001b[39;00m get_page\n\u001b[32m      4\u001b[39m deps = StoryAgentDeps(story_uuid=\u001b[33m\"\u001b[39m\u001b[33m067527ac-0ee5-4fe9-ad51-b316b12d5cc1\u001b[39m\u001b[33m\"\u001b[39m)\n\u001b[32m----> \u001b[39m\u001b[32m5\u001b[39m \u001b[43mget_page\u001b[49m\u001b[43m(\u001b[49m\u001b[43mdeps\u001b[49m\u001b[43m,\u001b[49m\u001b[43m \u001b[49m\u001b[32;43m1\u001b[39;49m\u001b[43m)\u001b[49m\n",
      "\u001b[36mFile \u001b[39m\u001b[32m~/Projects/story-sprout/src/apps/ai/engine/tools.py:25\u001b[39m, in \u001b[36mget_page\u001b[39m\u001b[34m(ctx, page_num)\u001b[39m\n\u001b[32m     23\u001b[39m \u001b[38;5;28;01mdef\u001b[39;00m\u001b[38;5;250m \u001b[39m\u001b[34mget_page\u001b[39m(ctx: RunContext[StoryAgentDeps], page_num: \u001b[38;5;28mint\u001b[39m) -> PageSchema:\n\u001b[32m     24\u001b[39m \u001b[38;5;250m    \u001b[39m\u001b[33;03m\"\"\"Get page information by page number.\"\"\"\u001b[39;00m\n\u001b[32m---> \u001b[39m\u001b[32m25\u001b[39m     logger.info(\u001b[33mf\u001b[39m\u001b[33m\"\u001b[39m\u001b[33mtool.get_page(\u001b[39m\u001b[38;5;132;01m{\u001b[39;00m\u001b[43mctx\u001b[49m\u001b[43m.\u001b[49m\u001b[43mdeps\u001b[49m.story_uuid\u001b[38;5;132;01m}\u001b[39;00m\u001b[33m, \u001b[39m\u001b[38;5;132;01m{\u001b[39;00mpage_num\u001b[38;5;132;01m}\u001b[39;00m\u001b[33m)\u001b[39m\u001b[33m\"\u001b[39m)\n\u001b[32m     26\u001b[39m     story_service = ctx.deps.story_service\n\u001b[32m     27\u001b[39m     page = story_service.get_page(page_num)\n",
      "\u001b[31mAttributeError\u001b[39m: 'StoryAgentDeps' object has no attribute 'deps'"
     ]
    }
   ],
   "source": [
    "from apps.ai.engine.dependencies import StoryAgentDeps\n",
    "from apps.ai.engine.tools import get_page\n",
    "\n",
    "deps = StoryAgentDeps(story_uuid=\"067527ac-0ee5-4fe9-ad51-b316b12d5cc1\")\n",
    "get_page(deps, 1)"
   ]
  }
 ],
 "metadata": {
  "kernelspec": {
   "display_name": ".venv",
   "language": "python",
   "name": "python3"
  },
  "language_info": {
   "codemirror_mode": {
    "name": "ipython",
    "version": 3
   },
   "file_extension": ".py",
   "mimetype": "text/x-python",
   "name": "python",
   "nbconvert_exporter": "python",
   "pygments_lexer": "ipython3",
   "version": "3.13.1"
  }
 },
 "nbformat": 4,
 "nbformat_minor": 5
}
