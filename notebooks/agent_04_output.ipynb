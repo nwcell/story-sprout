{
 "cells": [
  {
   "cell_type": "code",
   "execution_count": 1,
   "id": "0da200a5",
   "metadata": {},
   "outputs": [],
   "source": [
    "%reload_ext autoreload\n",
    "%autoreload 2"
   ]
  },
  {
   "cell_type": "code",
   "execution_count": 2,
   "id": "19987830",
   "metadata": {},
   "outputs": [
    {
     "name": "stdout",
     "output_type": "stream",
     "text": [
      "Using direct template loaders for development\n"
     ]
    },
    {
     "data": {
      "text/html": [
       "<pre style=\"white-space:pre;overflow-x:auto;line-height:normal;font-family:Menlo,'DejaVu Sans Mono',consolas,'Courier New',monospace\"><span style=\"color: #7fbfbf; text-decoration-color: #7fbfbf\">[09/25/25 14:24:53] </span><span style=\"color: #000080; text-decoration-color: #000080\">INFO    </span> Django environment loaded successfully                                    <a href=\"file:///Users/travis/Projects/story-sprout/notebooks/_setup.py\" target=\"_blank\"><span style=\"color: #7f7f7f; text-decoration-color: #7f7f7f\">_setup.py</span></a><span style=\"color: #7f7f7f; text-decoration-color: #7f7f7f\">:</span><a href=\"file:///Users/travis/Projects/story-sprout/notebooks/_setup.py#35\" target=\"_blank\"><span style=\"color: #7f7f7f; text-decoration-color: #7f7f7f\">35</span></a>\n",
       "</pre>\n"
      ],
      "text/plain": [
       "\u001b[2;36m[09/25/25 14:24:53]\u001b[0m\u001b[2;36m \u001b[0m\u001b[34mINFO    \u001b[0m Django environment loaded successfully                                    \u001b]8;id=949425;file:///Users/travis/Projects/story-sprout/notebooks/_setup.py\u001b\\\u001b[2m_setup.py\u001b[0m\u001b]8;;\u001b\\\u001b[2m:\u001b[0m\u001b]8;id=749003;file:///Users/travis/Projects/story-sprout/notebooks/_setup.py#35\u001b\\\u001b[2m35\u001b[0m\u001b]8;;\u001b\\\n"
      ]
     },
     "metadata": {},
     "output_type": "display_data"
    }
   ],
   "source": [
    "from _setup import setup\n",
    "\n",
    "setup()"
   ]
  },
  {
   "cell_type": "code",
   "execution_count": 3,
   "id": "638714e6",
   "metadata": {},
   "outputs": [
    {
     "name": "stdout",
     "output_type": "stream",
     "text": [
      "DEBUG: True\n",
      "APP_DIRS: False\n",
      "DEBUG: True\n",
      "loaders: ['django_cotton.cotton_loader.Loader', 'django.template.loaders.filesystem.Loader', 'django.template.loaders.app_directories.Loader']\n",
      "MIDDLEWARE: ['django.middleware.security.SecurityMiddleware', 'whitenoise.middleware.WhiteNoiseMiddleware', 'apps.common.middleware.RequestLoggingMiddleware', 'django.contrib.sessions.middleware.SessionMiddleware', 'django.middleware.common.CommonMiddleware', 'django.middleware.csrf.CsrfViewMiddleware', 'django.contrib.auth.middleware.AuthenticationMiddleware', 'django.contrib.messages.middleware.MessageMiddleware', 'django.middleware.clickjacking.XFrameOptionsMiddleware', 'django_htmx.middleware.HtmxMiddleware', 'allauth.account.middleware.AccountMiddleware', 'django_browser_reload.middleware.BrowserReloadMiddleware']\n"
     ]
    }
   ],
   "source": [
    "from django.conf import settings\n",
    "\n",
    "print(\"DEBUG:\", settings.DEBUG)\n",
    "print(\"APP_DIRS:\", settings.TEMPLATES[0].get(\"APP_DIRS\"))\n",
    "print(\"DEBUG:\", settings.TEMPLATES[0][\"OPTIONS\"].get(\"debug\"))\n",
    "print(\"loaders:\", settings.TEMPLATES[0][\"OPTIONS\"].get(\"loaders\"))\n",
    "print(\"MIDDLEWARE:\", settings.MIDDLEWARE)\n"
   ]
  },
  {
   "cell_type": "code",
   "execution_count": 4,
   "id": "61fa173b",
   "metadata": {},
   "outputs": [],
   "source": [
    "from collections.abc import AsyncIterable\n",
    "\n",
    "from pydantic_ai import Agent, RunContext\n",
    "from pydantic_ai.messages import (\n",
    "    AgentStreamEvent,\n",
    "    FinalResultEvent,\n",
    "    FunctionToolCallEvent,\n",
    "    FunctionToolResultEvent,\n",
    "    PartDeltaEvent,\n",
    "    PartStartEvent,\n",
    "    TextPartDelta,\n",
    "    ThinkingPartDelta,\n",
    "    ToolCallPartDelta,\n",
    ")\n",
    "\n",
    "\n",
    "async def event_stream_handler(\n",
    "    ctx: RunContext,\n",
    "    event_stream: AsyncIterable[AgentStreamEvent],\n",
    "):\n",
    "    async for event in event_stream:\n",
    "        if isinstance(event, PartStartEvent):\n",
    "            print(f\"[Request] Starting part {event.index}: {event.part!r}\")\n",
    "        elif isinstance(event, PartDeltaEvent):\n",
    "            if isinstance(event.delta, TextPartDelta):\n",
    "                print(f\"[Request] Part {event.index} text delta: {event.delta.content_delta!r}\")\n",
    "            elif isinstance(event.delta, ThinkingPartDelta):\n",
    "                print(f\"[Request] Part {event.index} thinking delta: {event.delta.content_delta!r}\")\n",
    "            elif isinstance(event.delta, ToolCallPartDelta):\n",
    "                print(f\"[Request] Part {event.index} args delta: {event.delta.args_delta}\")\n",
    "        elif isinstance(event, FunctionToolCallEvent):\n",
    "            print(\n",
    "                f\"[Tools] The LLM calls tool={event.part.tool_name!r} with args={event.part.args} (tool_call_id={event.part.tool_call_id!r})\"\n",
    "            )\n",
    "        elif isinstance(event, FunctionToolResultEvent):\n",
    "            print(f\"[Tools] Tool call {event.tool_call_id!r} returned => {event.result.content}\")\n",
    "        elif isinstance(event, FinalResultEvent):\n",
    "            print(f\"[Result] The model starting producing a final result (tool_name={event.tool_name})\")\n"
   ]
  },
  {
   "cell_type": "code",
   "execution_count": 5,
   "id": "2785c414",
   "metadata": {},
   "outputs": [
    {
     "data": {
      "text/html": [
       "<pre style=\"white-space:pre;overflow-x:auto;line-height:normal;font-family:Menlo,'DejaVu Sans Mono',consolas,'Courier New',monospace\"><span style=\"color: #7fbfbf; text-decoration-color: #7fbfbf\">                    </span><span style=\"color: #000080; text-decoration-color: #000080\">INFO    </span> <span style=\"color: #800080; text-decoration-color: #800080; font-weight: bold\">StoryAgentDeps.__init__</span><span style=\"font-weight: bold\">(</span><span style=\"color: #800080; text-decoration-color: #800080; font-style: italic\">None</span>, <span style=\"color: #ffff00; text-decoration-color: #ffff00\">c0b3844a-ba34-4541-a265-b52f4d99470a</span>, <a href=\"file:///Users/travis/Projects/story-sprout/src/apps/ai/engine/dependencies.py\" target=\"_blank\"><span style=\"color: #7f7f7f; text-decoration-color: #7f7f7f\">dependencies.py</span></a><span style=\"color: #7f7f7f; text-decoration-color: #7f7f7f\">:</span><a href=\"file:///Users/travis/Projects/story-sprout/src/apps/ai/engine/dependencies.py#48\" target=\"_blank\"><span style=\"color: #7f7f7f; text-decoration-color: #7f7f7f\">48</span></a>\n",
       "<span style=\"color: #7fbfbf; text-decoration-color: #7fbfbf\">                    </span>         <span style=\"color: #800080; text-decoration-color: #800080; font-style: italic\">None</span>, gemini-<span style=\"color: #008080; text-decoration-color: #008080; font-weight: bold\">2.5</span>-flash-image-preview<span style=\"font-weight: bold\">)</span>                               <span style=\"color: #7f7f7f; text-decoration-color: #7f7f7f\">                  </span>\n",
       "</pre>\n"
      ],
      "text/plain": [
       "\u001b[2;36m                   \u001b[0m\u001b[2;36m \u001b[0m\u001b[34mINFO    \u001b[0m \u001b[1;35mStoryAgentDeps.__init__\u001b[0m\u001b[1m(\u001b[0m\u001b[3;35mNone\u001b[0m, \u001b[93mc0b3844a-ba34-4541-a265-b52f4d99470a\u001b[0m, \u001b]8;id=952654;file:///Users/travis/Projects/story-sprout/src/apps/ai/engine/dependencies.py\u001b\\\u001b[2mdependencies.py\u001b[0m\u001b]8;;\u001b\\\u001b[2m:\u001b[0m\u001b]8;id=140123;file:///Users/travis/Projects/story-sprout/src/apps/ai/engine/dependencies.py#48\u001b\\\u001b[2m48\u001b[0m\u001b]8;;\u001b\\\n",
       "\u001b[2;36m                    \u001b[0m         \u001b[3;35mNone\u001b[0m, gemini-\u001b[1;36m2.5\u001b[0m-flash-image-preview\u001b[1m)\u001b[0m                               \u001b[2m                  \u001b[0m\n"
      ]
     },
     "metadata": {},
     "output_type": "display_data"
    },
    {
     "data": {
      "text/html": [
       "<pre style=\"white-space:pre;overflow-x:auto;line-height:normal;font-family:Menlo,'DejaVu Sans Mono',consolas,'Courier New',monospace\"><span style=\"color: #7fbfbf; text-decoration-color: #7fbfbf\">                    </span><span style=\"color: #000080; text-decoration-color: #000080\">INFO    </span> Using story UUID: <span style=\"color: #ffff00; text-decoration-color: #ffff00\">c0b3844a-ba34-4541-a265-b52f4d99470a</span> or page      <a href=\"file:///Users/travis/Projects/story-sprout/src/apps/ai/engine/dependencies.py\" target=\"_blank\"><span style=\"color: #7f7f7f; text-decoration-color: #7f7f7f\">dependencies.py</span></a><span style=\"color: #7f7f7f; text-decoration-color: #7f7f7f\">:</span><a href=\"file:///Users/travis/Projects/story-sprout/src/apps/ai/engine/dependencies.py#52\" target=\"_blank\"><span style=\"color: #7f7f7f; text-decoration-color: #7f7f7f\">52</span></a>\n",
       "<span style=\"color: #7fbfbf; text-decoration-color: #7fbfbf\">                    </span>         UUID: <span style=\"color: #800080; text-decoration-color: #800080; font-style: italic\">None</span>                                                          <span style=\"color: #7f7f7f; text-decoration-color: #7f7f7f\">                  </span>\n",
       "</pre>\n"
      ],
      "text/plain": [
       "\u001b[2;36m                   \u001b[0m\u001b[2;36m \u001b[0m\u001b[34mINFO    \u001b[0m Using story UUID: \u001b[93mc0b3844a-ba34-4541-a265-b52f4d99470a\u001b[0m or page      \u001b]8;id=257495;file:///Users/travis/Projects/story-sprout/src/apps/ai/engine/dependencies.py\u001b\\\u001b[2mdependencies.py\u001b[0m\u001b]8;;\u001b\\\u001b[2m:\u001b[0m\u001b]8;id=215702;file:///Users/travis/Projects/story-sprout/src/apps/ai/engine/dependencies.py#52\u001b\\\u001b[2m52\u001b[0m\u001b]8;;\u001b\\\n",
       "\u001b[2;36m                    \u001b[0m         UUID: \u001b[3;35mNone\u001b[0m                                                          \u001b[2m                  \u001b[0m\n"
      ]
     },
     "metadata": {},
     "output_type": "display_data"
    },
    {
     "data": {
      "text/html": [
       "<pre style=\"white-space:pre;overflow-x:auto;line-height:normal;font-family:Menlo,'DejaVu Sans Mono',consolas,'Courier New',monospace\"><span style=\"color: #7fbfbf; text-decoration-color: #7fbfbf\">                    </span><span style=\"color: #000080; text-decoration-color: #000080\">INFO    </span> <span style=\"color: #800080; text-decoration-color: #800080; font-weight: bold\">StoryService.story_obj</span><span style=\"font-weight: bold\">(</span><span style=\"color: #ffff00; text-decoration-color: #ffff00\">c0b3844a-ba34-4541-a265-b52f4d99470a</span><span style=\"font-weight: bold\">)</span>            <a href=\"file:///Users/travis/Projects/story-sprout/src/apps/stories/services.py\" target=\"_blank\"><span style=\"color: #7f7f7f; text-decoration-color: #7f7f7f\">services.py</span></a><span style=\"color: #7f7f7f; text-decoration-color: #7f7f7f\">:</span><a href=\"file:///Users/travis/Projects/story-sprout/src/apps/stories/services.py#99\" target=\"_blank\"><span style=\"color: #7f7f7f; text-decoration-color: #7f7f7f\">99</span></a>\n",
       "</pre>\n"
      ],
      "text/plain": [
       "\u001b[2;36m                   \u001b[0m\u001b[2;36m \u001b[0m\u001b[34mINFO    \u001b[0m \u001b[1;35mStoryService.story_obj\u001b[0m\u001b[1m(\u001b[0m\u001b[93mc0b3844a-ba34-4541-a265-b52f4d99470a\u001b[0m\u001b[1m)\u001b[0m            \u001b]8;id=67751;file:///Users/travis/Projects/story-sprout/src/apps/stories/services.py\u001b\\\u001b[2mservices.py\u001b[0m\u001b]8;;\u001b\\\u001b[2m:\u001b[0m\u001b]8;id=427510;file:///Users/travis/Projects/story-sprout/src/apps/stories/services.py#99\u001b\\\u001b[2m99\u001b[0m\u001b]8;;\u001b\\\n"
      ]
     },
     "metadata": {},
     "output_type": "display_data"
    },
    {
     "data": {
      "text/html": [
       "<pre style=\"white-space:pre;overflow-x:auto;line-height:normal;font-family:Menlo,'DejaVu Sans Mono',consolas,'Courier New',monospace\"><span style=\"color: #7fbfbf; text-decoration-color: #7fbfbf\">                    </span><span style=\"color: #000080; text-decoration-color: #000080\">INFO    </span> Using user ID: <span style=\"color: #008080; text-decoration-color: #008080; font-weight: bold\">1</span>                                                    <a href=\"file:///Users/travis/Projects/story-sprout/src/apps/ai/engine/dependencies.py\" target=\"_blank\"><span style=\"color: #7f7f7f; text-decoration-color: #7f7f7f\">dependencies.py</span></a><span style=\"color: #7f7f7f; text-decoration-color: #7f7f7f\">:</span><a href=\"file:///Users/travis/Projects/story-sprout/src/apps/ai/engine/dependencies.py#57\" target=\"_blank\"><span style=\"color: #7f7f7f; text-decoration-color: #7f7f7f\">57</span></a>\n",
       "</pre>\n"
      ],
      "text/plain": [
       "\u001b[2;36m                   \u001b[0m\u001b[2;36m \u001b[0m\u001b[34mINFO    \u001b[0m Using user ID: \u001b[1;36m1\u001b[0m                                                    \u001b]8;id=85754;file:///Users/travis/Projects/story-sprout/src/apps/ai/engine/dependencies.py\u001b\\\u001b[2mdependencies.py\u001b[0m\u001b]8;;\u001b\\\u001b[2m:\u001b[0m\u001b]8;id=991470;file:///Users/travis/Projects/story-sprout/src/apps/ai/engine/dependencies.py#57\u001b\\\u001b[2m57\u001b[0m\u001b]8;;\u001b\\\n"
      ]
     },
     "metadata": {},
     "output_type": "display_data"
    },
    {
     "data": {
      "text/html": [
       "<pre style=\"white-space:pre;overflow-x:auto;line-height:normal;font-family:Menlo,'DejaVu Sans Mono',consolas,'Courier New',monospace\"><span style=\"color: #7fbfbf; text-decoration-color: #7fbfbf\">                    </span><span style=\"color: #000080; text-decoration-color: #000080\">INFO    </span> <span style=\"color: #800080; text-decoration-color: #800080; font-weight: bold\">StoryService.story_obj</span><span style=\"font-weight: bold\">(</span><span style=\"color: #ffff00; text-decoration-color: #ffff00\">c0b3844a-ba34-4541-a265-b52f4d99470a</span><span style=\"font-weight: bold\">)</span>            <a href=\"file:///Users/travis/Projects/story-sprout/src/apps/stories/services.py\" target=\"_blank\"><span style=\"color: #7f7f7f; text-decoration-color: #7f7f7f\">services.py</span></a><span style=\"color: #7f7f7f; text-decoration-color: #7f7f7f\">:</span><a href=\"file:///Users/travis/Projects/story-sprout/src/apps/stories/services.py#99\" target=\"_blank\"><span style=\"color: #7f7f7f; text-decoration-color: #7f7f7f\">99</span></a>\n",
       "</pre>\n"
      ],
      "text/plain": [
       "\u001b[2;36m                   \u001b[0m\u001b[2;36m \u001b[0m\u001b[34mINFO    \u001b[0m \u001b[1;35mStoryService.story_obj\u001b[0m\u001b[1m(\u001b[0m\u001b[93mc0b3844a-ba34-4541-a265-b52f4d99470a\u001b[0m\u001b[1m)\u001b[0m            \u001b]8;id=99287;file:///Users/travis/Projects/story-sprout/src/apps/stories/services.py\u001b\\\u001b[2mservices.py\u001b[0m\u001b]8;;\u001b\\\u001b[2m:\u001b[0m\u001b]8;id=214150;file:///Users/travis/Projects/story-sprout/src/apps/stories/services.py#99\u001b\\\u001b[2m99\u001b[0m\u001b]8;;\u001b\\\n"
      ]
     },
     "metadata": {},
     "output_type": "display_data"
    },
    {
     "data": {
      "text/html": [
       "<pre style=\"white-space:pre;overflow-x:auto;line-height:normal;font-family:Menlo,'DejaVu Sans Mono',consolas,'Courier New',monospace\"><span style=\"color: #7fbfbf; text-decoration-color: #7fbfbf\">                    </span><span style=\"color: #000080; text-decoration-color: #000080\">INFO    </span> <span style=\"color: #800080; text-decoration-color: #800080; font-weight: bold\">StoryService.story_obj</span><span style=\"font-weight: bold\">(</span><span style=\"color: #ffff00; text-decoration-color: #ffff00\">c0b3844a-ba34-4541-a265-b52f4d99470a</span><span style=\"font-weight: bold\">)</span>            <a href=\"file:///Users/travis/Projects/story-sprout/src/apps/stories/services.py\" target=\"_blank\"><span style=\"color: #7f7f7f; text-decoration-color: #7f7f7f\">services.py</span></a><span style=\"color: #7f7f7f; text-decoration-color: #7f7f7f\">:</span><a href=\"file:///Users/travis/Projects/story-sprout/src/apps/stories/services.py#99\" target=\"_blank\"><span style=\"color: #7f7f7f; text-decoration-color: #7f7f7f\">99</span></a>\n",
       "</pre>\n"
      ],
      "text/plain": [
       "\u001b[2;36m                   \u001b[0m\u001b[2;36m \u001b[0m\u001b[34mINFO    \u001b[0m \u001b[1;35mStoryService.story_obj\u001b[0m\u001b[1m(\u001b[0m\u001b[93mc0b3844a-ba34-4541-a265-b52f4d99470a\u001b[0m\u001b[1m)\u001b[0m            \u001b]8;id=129790;file:///Users/travis/Projects/story-sprout/src/apps/stories/services.py\u001b\\\u001b[2mservices.py\u001b[0m\u001b]8;;\u001b\\\u001b[2m:\u001b[0m\u001b]8;id=629172;file:///Users/travis/Projects/story-sprout/src/apps/stories/services.py#99\u001b\\\u001b[2m99\u001b[0m\u001b]8;;\u001b\\\n"
      ]
     },
     "metadata": {},
     "output_type": "display_data"
    },
    {
     "data": {
      "text/html": [
       "<pre style=\"white-space:pre;overflow-x:auto;line-height:normal;font-family:Menlo,'DejaVu Sans Mono',consolas,'Courier New',monospace\"><span style=\"color: #7fbfbf; text-decoration-color: #7fbfbf\">                    </span><span style=\"color: #000080; text-decoration-color: #000080\">INFO    </span> <span style=\"color: #800080; text-decoration-color: #800080; font-weight: bold\">StoryService.story_obj</span><span style=\"font-weight: bold\">(</span><span style=\"color: #ffff00; text-decoration-color: #ffff00\">c0b3844a-ba34-4541-a265-b52f4d99470a</span><span style=\"font-weight: bold\">)</span>            <a href=\"file:///Users/travis/Projects/story-sprout/src/apps/stories/services.py\" target=\"_blank\"><span style=\"color: #7f7f7f; text-decoration-color: #7f7f7f\">services.py</span></a><span style=\"color: #7f7f7f; text-decoration-color: #7f7f7f\">:</span><a href=\"file:///Users/travis/Projects/story-sprout/src/apps/stories/services.py#99\" target=\"_blank\"><span style=\"color: #7f7f7f; text-decoration-color: #7f7f7f\">99</span></a>\n",
       "</pre>\n"
      ],
      "text/plain": [
       "\u001b[2;36m                   \u001b[0m\u001b[2;36m \u001b[0m\u001b[34mINFO    \u001b[0m \u001b[1;35mStoryService.story_obj\u001b[0m\u001b[1m(\u001b[0m\u001b[93mc0b3844a-ba34-4541-a265-b52f4d99470a\u001b[0m\u001b[1m)\u001b[0m            \u001b]8;id=982725;file:///Users/travis/Projects/story-sprout/src/apps/stories/services.py\u001b\\\u001b[2mservices.py\u001b[0m\u001b]8;;\u001b\\\u001b[2m:\u001b[0m\u001b]8;id=288205;file:///Users/travis/Projects/story-sprout/src/apps/stories/services.py#99\u001b\\\u001b[2m99\u001b[0m\u001b]8;;\u001b\\\n"
      ]
     },
     "metadata": {},
     "output_type": "display_data"
    },
    {
     "data": {
      "text/html": [
       "<pre style=\"white-space:pre;overflow-x:auto;line-height:normal;font-family:Menlo,'DejaVu Sans Mono',consolas,'Courier New',monospace\"><span style=\"color: #7fbfbf; text-decoration-color: #7fbfbf\">                    </span><span style=\"color: #000080; text-decoration-color: #000080\">INFO    </span> Using story conversation UUID: <span style=\"color: #ffff00; text-decoration-color: #ffff00\">e7269ee0-1f8c-4f79-b34f-c5b80cb24741</span> <a href=\"file:///Users/travis/Projects/story-sprout/src/apps/ai/engine/dependencies.py\" target=\"_blank\"><span style=\"color: #7f7f7f; text-decoration-color: #7f7f7f\">dependencies.py</span></a><span style=\"color: #7f7f7f; text-decoration-color: #7f7f7f\">:</span><a href=\"file:///Users/travis/Projects/story-sprout/src/apps/ai/engine/dependencies.py#65\" target=\"_blank\"><span style=\"color: #7f7f7f; text-decoration-color: #7f7f7f\">65</span></a>\n",
       "</pre>\n"
      ],
      "text/plain": [
       "\u001b[2;36m                   \u001b[0m\u001b[2;36m \u001b[0m\u001b[34mINFO    \u001b[0m Using story conversation UUID: \u001b[93me7269ee0-1f8c-4f79-b34f-c5b80cb24741\u001b[0m \u001b]8;id=146517;file:///Users/travis/Projects/story-sprout/src/apps/ai/engine/dependencies.py\u001b\\\u001b[2mdependencies.py\u001b[0m\u001b]8;;\u001b\\\u001b[2m:\u001b[0m\u001b]8;id=759368;file:///Users/travis/Projects/story-sprout/src/apps/ai/engine/dependencies.py#65\u001b\\\u001b[2m65\u001b[0m\u001b]8;;\u001b\\\n"
      ]
     },
     "metadata": {},
     "output_type": "display_data"
    },
    {
     "data": {
      "text/html": [
       "<pre style=\"white-space:pre;overflow-x:auto;line-height:normal;font-family:Menlo,'DejaVu Sans Mono',consolas,'Courier New',monospace\"><span style=\"color: #7fbfbf; text-decoration-color: #7fbfbf\">                    </span><span style=\"color: #000080; text-decoration-color: #000080\">INFO    </span> <span style=\"color: #800080; text-decoration-color: #800080; font-weight: bold\">StoryService.story_obj</span><span style=\"font-weight: bold\">(</span><span style=\"color: #ffff00; text-decoration-color: #ffff00\">c0b3844a-ba34-4541-a265-b52f4d99470a</span><span style=\"font-weight: bold\">)</span>            <a href=\"file:///Users/travis/Projects/story-sprout/src/apps/stories/services.py\" target=\"_blank\"><span style=\"color: #7f7f7f; text-decoration-color: #7f7f7f\">services.py</span></a><span style=\"color: #7f7f7f; text-decoration-color: #7f7f7f\">:</span><a href=\"file:///Users/travis/Projects/story-sprout/src/apps/stories/services.py#99\" target=\"_blank\"><span style=\"color: #7f7f7f; text-decoration-color: #7f7f7f\">99</span></a>\n",
       "</pre>\n"
      ],
      "text/plain": [
       "\u001b[2;36m                   \u001b[0m\u001b[2;36m \u001b[0m\u001b[34mINFO    \u001b[0m \u001b[1;35mStoryService.story_obj\u001b[0m\u001b[1m(\u001b[0m\u001b[93mc0b3844a-ba34-4541-a265-b52f4d99470a\u001b[0m\u001b[1m)\u001b[0m            \u001b]8;id=282819;file:///Users/travis/Projects/story-sprout/src/apps/stories/services.py\u001b\\\u001b[2mservices.py\u001b[0m\u001b]8;;\u001b\\\u001b[2m:\u001b[0m\u001b]8;id=762265;file:///Users/travis/Projects/story-sprout/src/apps/stories/services.py#99\u001b\\\u001b[2m99\u001b[0m\u001b]8;;\u001b\\\n"
      ]
     },
     "metadata": {},
     "output_type": "display_data"
    },
    {
     "data": {
      "text/html": [
       "<pre style=\"white-space:pre;overflow-x:auto;line-height:normal;font-family:Menlo,'DejaVu Sans Mono',consolas,'Courier New',monospace\"><span style=\"color: #7fbfbf; text-decoration-color: #7fbfbf\">                    </span><span style=\"color: #000080; text-decoration-color: #000080\">INFO    </span> Using conversation UUID: <span style=\"color: #ffff00; text-decoration-color: #ffff00\">e7269ee0-1f8c-4f79-b34f-c5b80cb24741</span>       <a href=\"file:///Users/travis/Projects/story-sprout/src/apps/ai/engine/dependencies.py\" target=\"_blank\"><span style=\"color: #7f7f7f; text-decoration-color: #7f7f7f\">dependencies.py</span></a><span style=\"color: #7f7f7f; text-decoration-color: #7f7f7f\">:</span><a href=\"file:///Users/travis/Projects/story-sprout/src/apps/ai/engine/dependencies.py#75\" target=\"_blank\"><span style=\"color: #7f7f7f; text-decoration-color: #7f7f7f\">75</span></a>\n",
       "</pre>\n"
      ],
      "text/plain": [
       "\u001b[2;36m                   \u001b[0m\u001b[2;36m \u001b[0m\u001b[34mINFO    \u001b[0m Using conversation UUID: \u001b[93me7269ee0-1f8c-4f79-b34f-c5b80cb24741\u001b[0m       \u001b]8;id=835906;file:///Users/travis/Projects/story-sprout/src/apps/ai/engine/dependencies.py\u001b\\\u001b[2mdependencies.py\u001b[0m\u001b]8;;\u001b\\\u001b[2m:\u001b[0m\u001b]8;id=522569;file:///Users/travis/Projects/story-sprout/src/apps/ai/engine/dependencies.py#75\u001b\\\u001b[2m75\u001b[0m\u001b]8;;\u001b\\\n"
      ]
     },
     "metadata": {},
     "output_type": "display_data"
    },
    {
     "data": {
      "text/html": [
       "<pre style=\"white-space:pre;overflow-x:auto;line-height:normal;font-family:Menlo,'DejaVu Sans Mono',consolas,'Courier New',monospace\"><span style=\"color: #7fbfbf; text-decoration-color: #7fbfbf\">                    </span><span style=\"color: #000080; text-decoration-color: #000080\">INFO    </span> Using conversation UUID: <span style=\"font-weight: bold\">&lt;</span><span style=\"color: #ff00ff; text-decoration-color: #ff00ff; font-weight: bold\">apps.ai.services.ConversationService</span><span style=\"color: #000000; text-decoration-color: #000000\"> </span>     <a href=\"file:///Users/travis/Projects/story-sprout/src/apps/ai/engine/dependencies.py\" target=\"_blank\"><span style=\"color: #7f7f7f; text-decoration-color: #7f7f7f\">dependencies.py</span></a><span style=\"color: #7f7f7f; text-decoration-color: #7f7f7f\">:</span><a href=\"file:///Users/travis/Projects/story-sprout/src/apps/ai/engine/dependencies.py#76\" target=\"_blank\"><span style=\"color: #7f7f7f; text-decoration-color: #7f7f7f\">76</span></a>\n",
       "<span style=\"color: #7fbfbf; text-decoration-color: #7fbfbf\">                    </span>         <span style=\"color: #000000; text-decoration-color: #000000\">object at </span><span style=\"color: #008080; text-decoration-color: #008080; font-weight: bold\">0x11fcc8d70</span><span style=\"font-weight: bold\">&gt;</span>                                              <span style=\"color: #7f7f7f; text-decoration-color: #7f7f7f\">                  </span>\n",
       "</pre>\n"
      ],
      "text/plain": [
       "\u001b[2;36m                   \u001b[0m\u001b[2;36m \u001b[0m\u001b[34mINFO    \u001b[0m Using conversation UUID: \u001b[1m<\u001b[0m\u001b[1;95mapps.ai.services.ConversationService\u001b[0m\u001b[39m \u001b[0m     \u001b]8;id=32380;file:///Users/travis/Projects/story-sprout/src/apps/ai/engine/dependencies.py\u001b\\\u001b[2mdependencies.py\u001b[0m\u001b]8;;\u001b\\\u001b[2m:\u001b[0m\u001b]8;id=520932;file:///Users/travis/Projects/story-sprout/src/apps/ai/engine/dependencies.py#76\u001b\\\u001b[2m76\u001b[0m\u001b]8;;\u001b\\\n",
       "\u001b[2;36m                    \u001b[0m         \u001b[39mobject at \u001b[0m\u001b[1;36m0x11fcc8d70\u001b[0m\u001b[1m>\u001b[0m                                              \u001b[2m                  \u001b[0m\n"
      ]
     },
     "metadata": {},
     "output_type": "display_data"
    },
    {
     "data": {
      "text/html": [
       "<pre style=\"white-space:pre;overflow-x:auto;line-height:normal;font-family:Menlo,'DejaVu Sans Mono',consolas,'Courier New',monospace\"><span style=\"color: #7fbfbf; text-decoration-color: #7fbfbf\">                    </span><span style=\"color: #000080; text-decoration-color: #000080\">INFO    </span> Initializing artifact service, image client, and image model        <a href=\"file:///Users/travis/Projects/story-sprout/src/apps/ai/engine/dependencies.py\" target=\"_blank\"><span style=\"color: #7f7f7f; text-decoration-color: #7f7f7f\">dependencies.py</span></a><span style=\"color: #7f7f7f; text-decoration-color: #7f7f7f\">:</span><a href=\"file:///Users/travis/Projects/story-sprout/src/apps/ai/engine/dependencies.py#78\" target=\"_blank\"><span style=\"color: #7f7f7f; text-decoration-color: #7f7f7f\">78</span></a>\n",
       "</pre>\n"
      ],
      "text/plain": [
       "\u001b[2;36m                   \u001b[0m\u001b[2;36m \u001b[0m\u001b[34mINFO    \u001b[0m Initializing artifact service, image client, and image model        \u001b]8;id=774493;file:///Users/travis/Projects/story-sprout/src/apps/ai/engine/dependencies.py\u001b\\\u001b[2mdependencies.py\u001b[0m\u001b]8;;\u001b\\\u001b[2m:\u001b[0m\u001b]8;id=830767;file:///Users/travis/Projects/story-sprout/src/apps/ai/engine/dependencies.py#78\u001b\\\u001b[2m78\u001b[0m\u001b]8;;\u001b\\\n"
      ]
     },
     "metadata": {},
     "output_type": "display_data"
    }
   ],
   "source": [
    "from pydantic import BaseModel\n",
    "\n",
    "from apps.ai.engine.agents import ResponseFormat\n",
    "from apps.ai.engine.dependencies import StoryAgentDeps\n",
    "from apps.ai.engine.tools import book_toolset\n",
    "\n",
    "\n",
    "class CityLocation(BaseModel):\n",
    "    city: str\n",
    "    country: str\n",
    "\n",
    "\n",
    "deps = StoryAgentDeps(\n",
    "    # conversation_uuid=\"cc601b63-33cb-4819-8994-c708054f82df\",\n",
    "    story_uuid=\"c0b3844a-ba34-4541-a265-b52f4d99470a\",\n",
    ")\n",
    "\n",
    "agent = Agent(\n",
    "    \"google-gla:gemini-1.5-flash\",\n",
    "    output_type=ResponseFormat,\n",
    "    toolsets=[book_toolset],\n",
    "    deps_type=StoryAgentDeps,\n",
    ")\n",
    "prompt = (\n",
    "    \"Summarize this book & suggest next steps?\\n\\n\"\n",
    "    \"respond with an answer w/ a followup questions & 3 sugested answers from\"\n",
    "    \" the user, in the form of chips with 3-5 words\"\n",
    ")\n",
    "# result = await agent.run(\n",
    "#     prompt,\n",
    "#     deps=deps,\n",
    "# )\n",
    "# print(result.output)\n"
   ]
  },
  {
   "cell_type": "code",
   "execution_count": 6,
   "id": "72219607",
   "metadata": {},
   "outputs": [
    {
     "data": {
      "text/html": [
       "<pre style=\"white-space:pre;overflow-x:auto;line-height:normal;font-family:Menlo,'DejaVu Sans Mono',consolas,'Courier New',monospace\"><span style=\"color: #7fbfbf; text-decoration-color: #7fbfbf\">                    </span><span style=\"color: #000080; text-decoration-color: #000080\">INFO    </span> AFC is enabled with max remote calls: <span style=\"color: #008080; text-decoration-color: #008080; font-weight: bold\">10</span>.                               <a href=\"file:///Users/travis/Projects/story-sprout/.venv/lib/python3.13/site-packages/google/genai/models.py\" target=\"_blank\"><span style=\"color: #7f7f7f; text-decoration-color: #7f7f7f\">models.py</span></a><span style=\"color: #7f7f7f; text-decoration-color: #7f7f7f\">:</span><a href=\"file:///Users/travis/Projects/story-sprout/.venv/lib/python3.13/site-packages/google/genai/models.py#8421\" target=\"_blank\"><span style=\"color: #7f7f7f; text-decoration-color: #7f7f7f\">8421</span></a>\n",
       "</pre>\n"
      ],
      "text/plain": [
       "\u001b[2;36m                   \u001b[0m\u001b[2;36m \u001b[0m\u001b[34mINFO    \u001b[0m AFC is enabled with max remote calls: \u001b[1;36m10\u001b[0m.                               \u001b]8;id=510618;file:///Users/travis/Projects/story-sprout/.venv/lib/python3.13/site-packages/google/genai/models.py\u001b\\\u001b[2mmodels.py\u001b[0m\u001b]8;;\u001b\\\u001b[2m:\u001b[0m\u001b]8;id=865820;file:///Users/travis/Projects/story-sprout/.venv/lib/python3.13/site-packages/google/genai/models.py#8421\u001b\\\u001b[2m8421\u001b[0m\u001b]8;;\u001b\\\n"
      ]
     },
     "metadata": {},
     "output_type": "display_data"
    },
    {
     "data": {
      "text/html": [
       "<pre style=\"white-space:pre;overflow-x:auto;line-height:normal;font-family:Menlo,'DejaVu Sans Mono',consolas,'Courier New',monospace\"><span style=\"color: #7fbfbf; text-decoration-color: #7fbfbf\">[09/25/25 14:24:54] </span><span style=\"color: #000080; text-decoration-color: #000080\">INFO    </span> AFC remote call <span style=\"color: #008080; text-decoration-color: #008080; font-weight: bold\">1</span> is done.                                              <a href=\"file:///Users/travis/Projects/story-sprout/.venv/lib/python3.13/site-packages/google/genai/models.py\" target=\"_blank\"><span style=\"color: #7f7f7f; text-decoration-color: #7f7f7f\">models.py</span></a><span style=\"color: #7f7f7f; text-decoration-color: #7f7f7f\">:</span><a href=\"file:///Users/travis/Projects/story-sprout/.venv/lib/python3.13/site-packages/google/genai/models.py#8433\" target=\"_blank\"><span style=\"color: #7f7f7f; text-decoration-color: #7f7f7f\">8433</span></a>\n",
       "</pre>\n"
      ],
      "text/plain": [
       "\u001b[2;36m[09/25/25 14:24:54]\u001b[0m\u001b[2;36m \u001b[0m\u001b[34mINFO    \u001b[0m AFC remote call \u001b[1;36m1\u001b[0m is done.                                              \u001b]8;id=218301;file:///Users/travis/Projects/story-sprout/.venv/lib/python3.13/site-packages/google/genai/models.py\u001b\\\u001b[2mmodels.py\u001b[0m\u001b]8;;\u001b\\\u001b[2m:\u001b[0m\u001b]8;id=254566;file:///Users/travis/Projects/story-sprout/.venv/lib/python3.13/site-packages/google/genai/models.py#8433\u001b\\\u001b[2m8433\u001b[0m\u001b]8;;\u001b\\\n"
      ]
     },
     "metadata": {},
     "output_type": "display_data"
    },
    {
     "name": "stdout",
     "output_type": "stream",
     "text": [
      "[Request] Starting part 0: ToolCallPart(tool_name='get_story', args={}, tool_call_id='pyd_ai_c925955deb0446f490d9dd06511dbbdb')\n",
      "[Tools] The LLM calls tool='get_story' with args={} (tool_call_id='pyd_ai_c925955deb0446f490d9dd06511dbbdb')\n"
     ]
    },
    {
     "data": {
      "text/html": [
       "<pre style=\"white-space:pre;overflow-x:auto;line-height:normal;font-family:Menlo,'DejaVu Sans Mono',consolas,'Courier New',monospace\"><span style=\"color: #7fbfbf; text-decoration-color: #7fbfbf\">                    </span><span style=\"color: #000080; text-decoration-color: #000080\">INFO    </span> <span style=\"color: #800080; text-decoration-color: #800080; font-weight: bold\">tool.get_story</span><span style=\"font-weight: bold\">()</span>                                                           <a href=\"file:///Users/travis/Projects/story-sprout/src/apps/ai/engine/tools.py\" target=\"_blank\"><span style=\"color: #7f7f7f; text-decoration-color: #7f7f7f\">tools.py</span></a><span style=\"color: #7f7f7f; text-decoration-color: #7f7f7f\">:</span><a href=\"file:///Users/travis/Projects/story-sprout/src/apps/ai/engine/tools.py#33\" target=\"_blank\"><span style=\"color: #7f7f7f; text-decoration-color: #7f7f7f\">33</span></a>\n",
       "</pre>\n"
      ],
      "text/plain": [
       "\u001b[2;36m                   \u001b[0m\u001b[2;36m \u001b[0m\u001b[34mINFO    \u001b[0m \u001b[1;35mtool.get_story\u001b[0m\u001b[1m(\u001b[0m\u001b[1m)\u001b[0m                                                           \u001b]8;id=860126;file:///Users/travis/Projects/story-sprout/src/apps/ai/engine/tools.py\u001b\\\u001b[2mtools.py\u001b[0m\u001b]8;;\u001b\\\u001b[2m:\u001b[0m\u001b]8;id=758653;file:///Users/travis/Projects/story-sprout/src/apps/ai/engine/tools.py#33\u001b\\\u001b[2m33\u001b[0m\u001b]8;;\u001b\\\n"
      ]
     },
     "metadata": {},
     "output_type": "display_data"
    },
    {
     "data": {
      "text/html": [
       "<pre style=\"white-space:pre;overflow-x:auto;line-height:normal;font-family:Menlo,'DejaVu Sans Mono',consolas,'Courier New',monospace\"><span style=\"color: #7fbfbf; text-decoration-color: #7fbfbf\">                    </span><span style=\"color: #000080; text-decoration-color: #000080\">INFO    </span> <span style=\"color: #800080; text-decoration-color: #800080; font-weight: bold\">StoryService.story_obj</span><span style=\"font-weight: bold\">(</span><span style=\"color: #ffff00; text-decoration-color: #ffff00\">c0b3844a-ba34-4541-a265-b52f4d99470a</span><span style=\"font-weight: bold\">)</span>            <a href=\"file:///Users/travis/Projects/story-sprout/src/apps/stories/services.py\" target=\"_blank\"><span style=\"color: #7f7f7f; text-decoration-color: #7f7f7f\">services.py</span></a><span style=\"color: #7f7f7f; text-decoration-color: #7f7f7f\">:</span><a href=\"file:///Users/travis/Projects/story-sprout/src/apps/stories/services.py#99\" target=\"_blank\"><span style=\"color: #7f7f7f; text-decoration-color: #7f7f7f\">99</span></a>\n",
       "</pre>\n"
      ],
      "text/plain": [
       "\u001b[2;36m                   \u001b[0m\u001b[2;36m \u001b[0m\u001b[34mINFO    \u001b[0m \u001b[1;35mStoryService.story_obj\u001b[0m\u001b[1m(\u001b[0m\u001b[93mc0b3844a-ba34-4541-a265-b52f4d99470a\u001b[0m\u001b[1m)\u001b[0m            \u001b]8;id=838312;file:///Users/travis/Projects/story-sprout/src/apps/stories/services.py\u001b\\\u001b[2mservices.py\u001b[0m\u001b]8;;\u001b\\\u001b[2m:\u001b[0m\u001b]8;id=432412;file:///Users/travis/Projects/story-sprout/src/apps/stories/services.py#99\u001b\\\u001b[2m99\u001b[0m\u001b]8;;\u001b\\\n"
      ]
     },
     "metadata": {},
     "output_type": "display_data"
    },
    {
     "data": {
      "text/html": [
       "<pre style=\"white-space:pre;overflow-x:auto;line-height:normal;font-family:Menlo,'DejaVu Sans Mono',consolas,'Courier New',monospace\"><span style=\"color: #7fbfbf; text-decoration-color: #7fbfbf\">                    </span><span style=\"color: #000080; text-decoration-color: #000080\">INFO    </span> tool.get_story retrieved story: <span style=\"color: #808000; text-decoration-color: #808000\">title</span>=<span style=\"color: #008000; text-decoration-color: #008000\">'Nimbus and Twinkle'</span>s Rainbow        <a href=\"file:///Users/travis/Projects/story-sprout/src/apps/ai/engine/tools.py\" target=\"_blank\"><span style=\"color: #7f7f7f; text-decoration-color: #7f7f7f\">tools.py</span></a><span style=\"color: #7f7f7f; text-decoration-color: #7f7f7f\">:</span><a href=\"file:///Users/travis/Projects/story-sprout/src/apps/ai/engine/tools.py#36\" target=\"_blank\"><span style=\"color: #7f7f7f; text-decoration-color: #7f7f7f\">36</span></a>\n",
       "<span style=\"color: #7fbfbf; text-decoration-color: #7fbfbf\">                    </span>         Magic', <span style=\"color: #808000; text-decoration-color: #808000\">page_count</span>=<span style=\"color: #008080; text-decoration-color: #008080; font-weight: bold\">2</span>                                                       <span style=\"color: #7f7f7f; text-decoration-color: #7f7f7f\">           </span>\n",
       "</pre>\n"
      ],
      "text/plain": [
       "\u001b[2;36m                   \u001b[0m\u001b[2;36m \u001b[0m\u001b[34mINFO    \u001b[0m tool.get_story retrieved story: \u001b[33mtitle\u001b[0m=\u001b[32m'Nimbus and Twinkle'\u001b[0ms Rainbow        \u001b]8;id=266683;file:///Users/travis/Projects/story-sprout/src/apps/ai/engine/tools.py\u001b\\\u001b[2mtools.py\u001b[0m\u001b]8;;\u001b\\\u001b[2m:\u001b[0m\u001b]8;id=323141;file:///Users/travis/Projects/story-sprout/src/apps/ai/engine/tools.py#36\u001b\\\u001b[2m36\u001b[0m\u001b]8;;\u001b\\\n",
       "\u001b[2;36m                    \u001b[0m         Magic', \u001b[33mpage_count\u001b[0m=\u001b[1;36m2\u001b[0m                                                       \u001b[2m           \u001b[0m\n"
      ]
     },
     "metadata": {},
     "output_type": "display_data"
    },
    {
     "name": "stdout",
     "output_type": "stream",
     "text": [
      "[Tools] Tool call 'pyd_ai_c925955deb0446f490d9dd06511dbbdb' returned => uuid=UUID('c0b3844a-ba34-4541-a265-b52f4d99470a') title=\"Nimbus and Twinkle's Rainbow Magic\" description=\"Summary: A tiny cloud who can't make a rainbow teams up with a little star to create the most colorful surprise in the sky.\\n\\nBeginning: Nimbus the fluffy cloud loved watching his cloud friends make beautiful rainbows, but no matter how hard he tried, his rain was always plain gray. Little Twinkle the star, who sparkled brightly nearby, noticed Nimbus's sad droop.\\n\\nMiddle: Twinkle decided to help and, with a cheerful wink, she used her shimmering starlight to tickle Nimbus's raindrops, one by one. As Nimbus gently rained, Twinkle's magical light painted each drop a vibrant color – red, orange, yellow, green, blue, and purple! They giggled as the sky filled with hues they'd never seen together before.\\n\\nEnd: Together, Nimbus and Twinkle created the most magnificent, sparkling rainbow, filling the sky with joy and proving that even a little cloud and a tiny star can make something wonderful.\" page_count=2 pages=[PageSchema(uuid=UUID('ae032bff-9a49-400f-9ebf-e608ea6d056f'), page_number=1, content=\"Nimbus was a fluffy cloud. He loved to watch his friends make bright rainbows. But Nimbus's rain was always gray.\", image_text=\"Characters: Nimbus the fluffy, white cloud hovers in the sky, looking towards his colorful cloud friends in the distance. His expression is one of longing and disappointment. Beside him floats Twinkle, a tiny, bright star with a cheerful and encouraging demeanor, glancing at Nimbus with a sparkle in her eye.\\n\\nSetting/Environment: The scene takes place high above the ground in a bright and expansive blue sky. Puffier clouds with faint rainbow colors can be seen scattered across the background, signifying Nimbus's friends.\\n\\nActions: Nimbus is gently floating in place, watching his friends in admiration. Twinkle is actively bouncing closer to Nimbus to offer her support.\\n\\nObjects/Props: Wispy trail marks in the sky indicate Nimbus’s movement, creating a path that leads to where he currently floats. No other significant objects are present.\\n\\nComposition: Nimbus is positioned slightly to the left foreground, with Twinkle in the mid-ground next to him, slightly elevated to show she is floating. The rainbow-colored clouds recede into the background, adding depth to the scene.\", image=ImageField(url='/media/page_images/generated_image_20250923_232455.png', height=1024, width=1024, name='page_images/generated_image_20250923_232455.png', size=1938581), is_first=True, is_last=False), PageSchema(uuid=UUID('ddfee844-c2e5-48b7-8238-31cc49527f0a'), page_number=2, content=\"Twinkle smiled and whispered, 'Don’t worry, Nimbus, I’ve got a sparkly idea! Let's make a rainbow together!'\", image_text=\"Characters: Twinkle, a tiny bright star with an enthusiastic and supportive expression, is floating beside Nimbus, a fluffy, white cloud depicted with a hopeful yet curious demeanor as he listens to her idea.\\n\\nSetting/Environment: The scene is set in the same expansive sky, with the blue expanse creating a limitless background. The colors of the distant cloud friends are muted, focusing attention on Twinkle and Nimbus.\\n\\nActions: Twinkle is animatedly hovering around Nimbus, gesturing with one small starry arm as if to explain her idea. Nimbus is floating in place, slightly puffed up in attentive interest as Twinkle shares her plan.\\n\\nObjects/Props: There are no additional objects or props, allowing the focus to remain on the interaction between Twinkle and Nimbus.\\n\\nComposition: Twinkle is positioned to the right foreground, slightly above Nimbus to illustrate her floating motion. Nimbus occupies the left foreground, slightly angled towards Twinkle. The absence of detail in the sky behind them draws the viewer's gaze to the characters and their interaction.\", image=ImageField(url='/media/page_images/generated_image_20250923_225520.png', height=1024, width=1024, name='page_images/generated_image_20250923_225520.png', size=1656169), is_first=False, is_last=True)] channel='story-c0b3844a-ba34-4541-a265-b52f4d99470a' conversation_uuid=UUID('e7269ee0-1f8c-4f79-b34f-c5b80cb24741')\n"
     ]
    },
    {
     "data": {
      "text/html": [
       "<pre style=\"white-space:pre;overflow-x:auto;line-height:normal;font-family:Menlo,'DejaVu Sans Mono',consolas,'Courier New',monospace\"><span style=\"color: #7fbfbf; text-decoration-color: #7fbfbf\">                    </span><span style=\"color: #000080; text-decoration-color: #000080\">INFO    </span> AFC is enabled with max remote calls: <span style=\"color: #008080; text-decoration-color: #008080; font-weight: bold\">10</span>.                               <a href=\"file:///Users/travis/Projects/story-sprout/.venv/lib/python3.13/site-packages/google/genai/models.py\" target=\"_blank\"><span style=\"color: #7f7f7f; text-decoration-color: #7f7f7f\">models.py</span></a><span style=\"color: #7f7f7f; text-decoration-color: #7f7f7f\">:</span><a href=\"file:///Users/travis/Projects/story-sprout/.venv/lib/python3.13/site-packages/google/genai/models.py#8421\" target=\"_blank\"><span style=\"color: #7f7f7f; text-decoration-color: #7f7f7f\">8421</span></a>\n",
       "</pre>\n"
      ],
      "text/plain": [
       "\u001b[2;36m                   \u001b[0m\u001b[2;36m \u001b[0m\u001b[34mINFO    \u001b[0m AFC is enabled with max remote calls: \u001b[1;36m10\u001b[0m.                               \u001b]8;id=972993;file:///Users/travis/Projects/story-sprout/.venv/lib/python3.13/site-packages/google/genai/models.py\u001b\\\u001b[2mmodels.py\u001b[0m\u001b]8;;\u001b\\\u001b[2m:\u001b[0m\u001b]8;id=653192;file:///Users/travis/Projects/story-sprout/.venv/lib/python3.13/site-packages/google/genai/models.py#8421\u001b\\\u001b[2m8421\u001b[0m\u001b]8;;\u001b\\\n"
      ]
     },
     "metadata": {},
     "output_type": "display_data"
    },
    {
     "data": {
      "text/html": [
       "<pre style=\"white-space:pre;overflow-x:auto;line-height:normal;font-family:Menlo,'DejaVu Sans Mono',consolas,'Courier New',monospace\"><span style=\"color: #7fbfbf; text-decoration-color: #7fbfbf\">[09/25/25 14:24:55] </span><span style=\"color: #000080; text-decoration-color: #000080\">INFO    </span> AFC remote call <span style=\"color: #008080; text-decoration-color: #008080; font-weight: bold\">1</span> is done.                                              <a href=\"file:///Users/travis/Projects/story-sprout/.venv/lib/python3.13/site-packages/google/genai/models.py\" target=\"_blank\"><span style=\"color: #7f7f7f; text-decoration-color: #7f7f7f\">models.py</span></a><span style=\"color: #7f7f7f; text-decoration-color: #7f7f7f\">:</span><a href=\"file:///Users/travis/Projects/story-sprout/.venv/lib/python3.13/site-packages/google/genai/models.py#8433\" target=\"_blank\"><span style=\"color: #7f7f7f; text-decoration-color: #7f7f7f\">8433</span></a>\n",
       "</pre>\n"
      ],
      "text/plain": [
       "\u001b[2;36m[09/25/25 14:24:55]\u001b[0m\u001b[2;36m \u001b[0m\u001b[34mINFO    \u001b[0m AFC remote call \u001b[1;36m1\u001b[0m is done.                                              \u001b]8;id=308752;file:///Users/travis/Projects/story-sprout/.venv/lib/python3.13/site-packages/google/genai/models.py\u001b\\\u001b[2mmodels.py\u001b[0m\u001b]8;;\u001b\\\u001b[2m:\u001b[0m\u001b]8;id=797428;file:///Users/travis/Projects/story-sprout/.venv/lib/python3.13/site-packages/google/genai/models.py#8433\u001b\\\u001b[2m8433\u001b[0m\u001b]8;;\u001b\\\n"
      ]
     },
     "metadata": {},
     "output_type": "display_data"
    },
    {
     "name": "stdout",
     "output_type": "stream",
     "text": [
      "[Request] Starting part 0: ToolCallPart(tool_name='final_result', args={'response': \"This children's book tells the story of Nimbus, a little cloud who can't make a rainbow, and Twinkle, a little star who helps him. Together they create a magical rainbow. \\n\\nWhat would you like to do next?\", 'chips': [{'value': 'Read another book', 'emoji': '➡️'}, {'emoji': '🎨', 'value': 'Illustrate a scene'}, {'value': 'Write a sequel', 'emoji': '✍️'}]}, tool_call_id='pyd_ai_0edec087797441e9996d1a2df85a27a1')\n",
      "[Result] The model starting producing a final result (tool_name=final_result)\n",
      "response=\"This children's book tells the story of Nimbus, a little cloud who can't make a rainbow, and Twinkle, a little star who helps him. Together they create a magical rainbow. \\n\\nWhat would you like to do next?\" chips=[Chip(emoji='➡️', value='Read another book'), Chip(emoji='🎨', value='Illustrate a scene'), Chip(emoji='✍️', value='Write a sequel')]\n",
      "response=\"This children's book tells the story of Nimbus, a little cloud who can't make a rainbow, and Twinkle, a little star who helps him. Together they create a magical rainbow. \\n\\nWhat would you like to do next?\" chips=[Chip(emoji='➡️', value='Read another book'), Chip(emoji='🎨', value='Illustrate a scene'), Chip(emoji='✍️', value='Write a sequel')]\n"
     ]
    }
   ],
   "source": [
    "async with agent.run_stream(prompt, deps=deps, event_stream_handler=event_stream_handler) as response:\n",
    "    async for text in response.stream_output():\n",
    "        print(text)"
   ]
  },
  {
   "cell_type": "code",
   "execution_count": 7,
   "id": "8e7d1187",
   "metadata": {},
   "outputs": [
    {
     "data": {
      "text/html": [
       "<pre style=\"white-space:pre;overflow-x:auto;line-height:normal;font-family:Menlo,'DejaVu Sans Mono',consolas,'Courier New',monospace\"><span style=\"color: #7fbfbf; text-decoration-color: #7fbfbf\">                    </span><span style=\"color: #000080; text-decoration-color: #000080\">INFO    </span> <span style=\"color: #800080; text-decoration-color: #800080; font-weight: bold\">StoryService.story_obj</span><span style=\"font-weight: bold\">(</span><span style=\"color: #ffff00; text-decoration-color: #ffff00\">c0b3844a-ba34-4541-a265-b52f4d99470a</span><span style=\"font-weight: bold\">)</span>            <a href=\"file:///Users/travis/Projects/story-sprout/src/apps/stories/services.py\" target=\"_blank\"><span style=\"color: #7f7f7f; text-decoration-color: #7f7f7f\">services.py</span></a><span style=\"color: #7f7f7f; text-decoration-color: #7f7f7f\">:</span><a href=\"file:///Users/travis/Projects/story-sprout/src/apps/stories/services.py#99\" target=\"_blank\"><span style=\"color: #7f7f7f; text-decoration-color: #7f7f7f\">99</span></a>\n",
       "</pre>\n"
      ],
      "text/plain": [
       "\u001b[2;36m                   \u001b[0m\u001b[2;36m \u001b[0m\u001b[34mINFO    \u001b[0m \u001b[1;35mStoryService.story_obj\u001b[0m\u001b[1m(\u001b[0m\u001b[93mc0b3844a-ba34-4541-a265-b52f4d99470a\u001b[0m\u001b[1m)\u001b[0m            \u001b]8;id=600594;file:///Users/travis/Projects/story-sprout/src/apps/stories/services.py\u001b\\\u001b[2mservices.py\u001b[0m\u001b]8;;\u001b\\\u001b[2m:\u001b[0m\u001b]8;id=658962;file:///Users/travis/Projects/story-sprout/src/apps/stories/services.py#99\u001b\\\u001b[2m99\u001b[0m\u001b]8;;\u001b\\\n"
      ]
     },
     "metadata": {},
     "output_type": "display_data"
    },
    {
     "name": "stdout",
     "output_type": "stream",
     "text": [
      "e7269ee0-1f8c-4f79-b34f-c5b80cb24741\n",
      "<apps.ai.services.ConversationService object at 0x11fcc8d70>\n",
      "None\n"
     ]
    },
    {
     "ename": "DoesNotExist",
     "evalue": "Conversation matching query does not exist.",
     "output_type": "error",
     "traceback": [
      "\u001b[31m---------------------------------------------------------------------------\u001b[39m",
      "\u001b[31mDoesNotExist\u001b[39m                              Traceback (most recent call last)",
      "\u001b[36mCell\u001b[39m\u001b[36m \u001b[39m\u001b[32mIn[7]\u001b[39m\u001b[32m, line 6\u001b[39m\n\u001b[32m      4\u001b[39m \u001b[38;5;28mprint\u001b[39m(\u001b[38;5;28mstr\u001b[39m(conversation_service))\n\u001b[32m      5\u001b[39m \u001b[38;5;28mprint\u001b[39m(conversation_service.uuid)\n\u001b[32m----> \u001b[39m\u001b[32m6\u001b[39m conversation = \u001b[43mdeps\u001b[49m\u001b[43m.\u001b[49m\u001b[43mconversation_service\u001b[49m\u001b[43m.\u001b[49m\u001b[43mget_conversation\u001b[49m\u001b[43m(\u001b[49m\u001b[43m)\u001b[49m\n\u001b[32m      7\u001b[39m \u001b[38;5;28mprint\u001b[39m(conversation)\n",
      "\u001b[36mFile \u001b[39m\u001b[32m~/Projects/story-sprout/src/apps/ai/services.py:115\u001b[39m, in \u001b[36mConversationService.get_conversation\u001b[39m\u001b[34m(self)\u001b[39m\n\u001b[32m    114\u001b[39m \u001b[38;5;28;01mdef\u001b[39;00m\u001b[38;5;250m \u001b[39m\u001b[34mget_conversation\u001b[39m(\u001b[38;5;28mself\u001b[39m) -> ConversationDetailSchema:\n\u001b[32m--> \u001b[39m\u001b[32m115\u001b[39m     conversation = \u001b[43mConversation\u001b[49m\u001b[43m.\u001b[49m\u001b[43mobjects\u001b[49m\u001b[43m.\u001b[49m\u001b[43mget\u001b[49m\u001b[43m(\u001b[49m\u001b[43muuid\u001b[49m\u001b[43m=\u001b[49m\u001b[38;5;28;43mself\u001b[39;49m\u001b[43m.\u001b[49m\u001b[43muuid\u001b[49m\u001b[43m)\u001b[49m\n\u001b[32m    116\u001b[39m     \u001b[38;5;28;01mreturn\u001b[39;00m ConversationDetailSchema.model_validate(conversation, from_attributes=\u001b[38;5;28;01mTrue\u001b[39;00m)\n",
      "\u001b[36mFile \u001b[39m\u001b[32m~/Projects/story-sprout/.venv/lib/python3.13/site-packages/django/db/models/manager.py:87\u001b[39m, in \u001b[36mBaseManager._get_queryset_methods.<locals>.create_method.<locals>.manager_method\u001b[39m\u001b[34m(self, *args, **kwargs)\u001b[39m\n\u001b[32m     85\u001b[39m \u001b[38;5;129m@wraps\u001b[39m(method)\n\u001b[32m     86\u001b[39m \u001b[38;5;28;01mdef\u001b[39;00m\u001b[38;5;250m \u001b[39m\u001b[34mmanager_method\u001b[39m(\u001b[38;5;28mself\u001b[39m, *args, **kwargs):\n\u001b[32m---> \u001b[39m\u001b[32m87\u001b[39m     \u001b[38;5;28;01mreturn\u001b[39;00m \u001b[38;5;28;43mgetattr\u001b[39;49m\u001b[43m(\u001b[49m\u001b[38;5;28;43mself\u001b[39;49m\u001b[43m.\u001b[49m\u001b[43mget_queryset\u001b[49m\u001b[43m(\u001b[49m\u001b[43m)\u001b[49m\u001b[43m,\u001b[49m\u001b[43m \u001b[49m\u001b[43mname\u001b[49m\u001b[43m)\u001b[49m\u001b[43m(\u001b[49m\u001b[43m*\u001b[49m\u001b[43margs\u001b[49m\u001b[43m,\u001b[49m\u001b[43m \u001b[49m\u001b[43m*\u001b[49m\u001b[43m*\u001b[49m\u001b[43mkwargs\u001b[49m\u001b[43m)\u001b[49m\n",
      "\u001b[36mFile \u001b[39m\u001b[32m~/Projects/story-sprout/.venv/lib/python3.13/site-packages/django/db/models/query.py:633\u001b[39m, in \u001b[36mQuerySet.get\u001b[39m\u001b[34m(self, *args, **kwargs)\u001b[39m\n\u001b[32m    631\u001b[39m     \u001b[38;5;28;01mreturn\u001b[39;00m clone._result_cache[\u001b[32m0\u001b[39m]\n\u001b[32m    632\u001b[39m \u001b[38;5;28;01mif\u001b[39;00m \u001b[38;5;129;01mnot\u001b[39;00m num:\n\u001b[32m--> \u001b[39m\u001b[32m633\u001b[39m     \u001b[38;5;28;01mraise\u001b[39;00m \u001b[38;5;28mself\u001b[39m.model.DoesNotExist(\n\u001b[32m    634\u001b[39m         \u001b[33m\"\u001b[39m\u001b[38;5;132;01m%s\u001b[39;00m\u001b[33m matching query does not exist.\u001b[39m\u001b[33m\"\u001b[39m % \u001b[38;5;28mself\u001b[39m.model._meta.object_name\n\u001b[32m    635\u001b[39m     )\n\u001b[32m    636\u001b[39m \u001b[38;5;28;01mraise\u001b[39;00m \u001b[38;5;28mself\u001b[39m.model.MultipleObjectsReturned(\n\u001b[32m    637\u001b[39m     \u001b[33m\"\u001b[39m\u001b[33mget() returned more than one \u001b[39m\u001b[38;5;132;01m%s\u001b[39;00m\u001b[33m -- it returned \u001b[39m\u001b[38;5;132;01m%s\u001b[39;00m\u001b[33m!\u001b[39m\u001b[33m\"\u001b[39m\n\u001b[32m    638\u001b[39m     % (\n\u001b[32m   (...)\u001b[39m\u001b[32m    641\u001b[39m     )\n\u001b[32m    642\u001b[39m )\n",
      "\u001b[31mDoesNotExist\u001b[39m: Conversation matching query does not exist."
     ]
    }
   ],
   "source": [
    "conversation_uuid = deps.story_service.story_obj().conversation.uuid\n",
    "print(conversation_uuid)\n",
    "conversation_service = deps.conversation_service\n",
    "print(str(conversation_service))\n",
    "print(conversation_service.uuid)\n",
    "conversation = deps.conversation_service.get_conversation()\n",
    "print(conversation)\n"
   ]
  },
  {
   "cell_type": "code",
   "execution_count": 28,
   "id": "2b40fe87",
   "metadata": {},
   "outputs": [
    {
     "data": {
      "text/html": [
       "<pre style=\"white-space:pre;overflow-x:auto;line-height:normal;font-family:Menlo,'DejaVu Sans Mono',consolas,'Courier New',monospace\"><span style=\"color: #7fbfbf; text-decoration-color: #7fbfbf\">[09/25/25 14:59:14] </span><span style=\"color: #000080; text-decoration-color: #000080\">INFO    </span> <span style=\"color: #800080; text-decoration-color: #800080; font-weight: bold\">StoryAgentDeps.__init__</span><span style=\"font-weight: bold\">(</span><span style=\"color: #800080; text-decoration-color: #800080; font-style: italic\">None</span>, <span style=\"color: #ffff00; text-decoration-color: #ffff00\">c0b3844a-ba34-4541-a265-b52f4d99470a</span>, <a href=\"file:///Users/travis/Projects/story-sprout/src/apps/ai/engine/dependencies.py\" target=\"_blank\"><span style=\"color: #7f7f7f; text-decoration-color: #7f7f7f\">dependencies.py</span></a><span style=\"color: #7f7f7f; text-decoration-color: #7f7f7f\">:</span><a href=\"file:///Users/travis/Projects/story-sprout/src/apps/ai/engine/dependencies.py#15\" target=\"_blank\"><span style=\"color: #7f7f7f; text-decoration-color: #7f7f7f\">15</span></a>\n",
       "<span style=\"color: #7fbfbf; text-decoration-color: #7fbfbf\">                    </span>         <span style=\"color: #800080; text-decoration-color: #800080; font-style: italic\">None</span>, gemini-<span style=\"color: #008080; text-decoration-color: #008080; font-weight: bold\">2.5</span>-flash-image-preview<span style=\"font-weight: bold\">)</span>                               <span style=\"color: #7f7f7f; text-decoration-color: #7f7f7f\">                  </span>\n",
       "</pre>\n"
      ],
      "text/plain": [
       "\u001b[2;36m[09/25/25 14:59:14]\u001b[0m\u001b[2;36m \u001b[0m\u001b[34mINFO    \u001b[0m \u001b[1;35mStoryAgentDeps.__init__\u001b[0m\u001b[1m(\u001b[0m\u001b[3;35mNone\u001b[0m, \u001b[93mc0b3844a-ba34-4541-a265-b52f4d99470a\u001b[0m, \u001b]8;id=3020;file:///Users/travis/Projects/story-sprout/src/apps/ai/engine/dependencies.py\u001b\\\u001b[2mdependencies.py\u001b[0m\u001b]8;;\u001b\\\u001b[2m:\u001b[0m\u001b]8;id=75519;file:///Users/travis/Projects/story-sprout/src/apps/ai/engine/dependencies.py#15\u001b\\\u001b[2m15\u001b[0m\u001b]8;;\u001b\\\n",
       "\u001b[2;36m                    \u001b[0m         \u001b[3;35mNone\u001b[0m, gemini-\u001b[1;36m2.5\u001b[0m-flash-image-preview\u001b[1m)\u001b[0m                               \u001b[2m                  \u001b[0m\n"
      ]
     },
     "metadata": {},
     "output_type": "display_data"
    },
    {
     "name": "stdout",
     "output_type": "stream",
     "text": [
      "uuid=UUID('e7269ee0-1f8c-4f79-b34f-c5b80cb24741') user_id=1 title='' meta={'story_uuid': 'c0b3844a-ba34-4541-a265-b52f4d99470a'} created_at=datetime.datetime(2025, 9, 24, 15, 45, 47, 961533, tzinfo=datetime.timezone.utc) updated_at=datetime.datetime(2025, 9, 24, 15, 45, 47, 961537, tzinfo=datetime.timezone.utc) messages=[]\n"
     ]
    }
   ],
   "source": [
    "deps = StoryAgentDeps(\n",
    "    # conversation_uuid=\"cc601b63-33cb-4819-8994-c708054f82df\",\n",
    "    story_uuid=\"c0b3844a-ba34-4541-a265-b52f4d99470a\",\n",
    ")\n",
    "\n",
    "conversation_uuid = deps.story_service.get_story().conversation_uuid\n",
    "conversation = deps.conversation_service.get_conversation()\n",
    "print(conversation)"
   ]
  },
  {
   "cell_type": "code",
   "execution_count": 44,
   "id": "472ee46a",
   "metadata": {},
   "outputs": [
    {
     "name": "stdout",
     "output_type": "stream",
     "text": [
      "{'kind': 'response', 'parts': [{'id': None, 'content': '', 'part_kind': 'thinking', 'signature': 'CsQEAdHtim/GYCC24p77rlAY7rfbKQRTO2IdfDQ/2bD/JKDHk9JDj8lQVpp6RLBgsLYT0dCTvY3WYbdXcYeod8lf3WPemT2Im7GZVHQiQVde6MXJbKzR5YZEcTDovRrr7Ro7xH5PDR1N8P/SCvU6O4lHK1pzA85XVAs26M9dW9OWuCKq0BjhKSDvCBQfRmqmTChAkcRSKw2SkDnnvXFK5E3UnrndvqMt9u+Yh8+/SSZ7Q0Z0P8LpuhHHnQXyMokq6SmVstp7Hex5x679vPnUfDRTCPKeWZ9IakR526Tw6I3Ww25Xj7K3HBc5l/VLpzluqsSkCqNmsAWlxmGL9+vIi+1buJ22GSh2OfLY8X0WSd8wyCTBHfGI7cLHJQjbX4tCwLqoXatqopWsSLVYqEMvNKSZEU8Tw/ABjqPwPYDqfDDzY7TeGLwa+ejy9LTuk8+dP9Nx6Es3eqDhke7P8QIyqfKuwmPzU2jGEYnVhzIf+DqxDpddolpMNw60ihDRmWXJTkG694BVLW2DUzbykDGrq7E+BvoKv3RCSOvSuHKKuYzNZfvdNYyTW6Zsmm1LhFdNG3l77HMSd5M6KUnirWoUNW1hVUn4PrtkjGaYijrFYaf2uLY13Rtpm99zRgYCWOs3C9OkzwzPemznD0PBYoYU+7pczEiscRKym16AVf5UDxn00d3B5jV9FNe0oUSdtQiUYY36DkU5CUB1ms+lP24FgjyA0YesrZuRb5mrmhEIl9GpRKI2+yUGBgvE0iFuNsxhMeACLO/kiQ==', 'provider_name': 'google-gla'}, {'args': {'chips': [{'emoji': '✨', 'value': 'Suggest a title'}, {'emoji': '📝', 'value': \"Let's write a first page\"}, {'emoji': '🐿️', 'value': 'Brave Little Squirrel'}], 'message': \"You're eager to get going, and I love that energy! It seems we're still at the very beginning, as we haven't actually created any story content yet. \\n\\nHow about I suggest a first step very directly? Let's create a **title** for our story together! \\n\\nWhat kind of mood or main character would you like the title to hint at? For example, 'The Brave Little Squirrel' or 'Lily and the Whispering Willow.' \\n\\nOnce we have a title, we can jump straight into writing the very first page! How does that sound as our next step? ✨\"}, 'part_kind': 'tool-call', 'tool_name': 'final_result', 'tool_call_id': 'pyd_ai_3582268b4dd2450b8057ac639d329210'}], 'usage': {'details': {'thoughts_tokens': 123, 'text_prompt_tokens': 3398}, 'input_tokens': 3398, 'output_tokens': 322, 'cache_read_tokens': 0, 'cache_write_tokens': 0, 'input_audio_tokens': 0, 'output_audio_tokens': 0, 'cache_audio_read_tokens': 0}, 'timestamp': '2025-09-24T15:23:46.473589Z', 'model_name': 'gemini-2.5-flash', 'finish_reason': 'stop', 'provider_name': 'google-gla', 'provider_details': {'finish_reason': 'STOP'}, 'provider_response_id': 'Ag3UaPzVHKvQz7IPoaSQ0QU'}\n",
      "message=\"You're eager to get going, and I love that energy! It seems we're still at the very beginning, as we haven't actually created any story content yet. \\n\\nHow about I suggest a first step very directly? Let's create a **title** for our story together! \\n\\nWhat kind of mood or main character would you like the title to hint at? For example, 'The Brave Little Squirrel' or 'Lily and the Whispering Willow.' \\n\\nOnce we have a title, we can jump straight into writing the very first page! How does that sound as our next step? ✨\" chips=[Chip(emoji='✨', color='neutral', value='Suggest a title'), Chip(emoji='📝', color='neutral', value=\"Let's write a first page\"), Chip(emoji='🐿️', color='neutral', value='Brave Little Squirrel')]\n"
     ]
    }
   ],
   "source": [
    "from apps.ai.models import Conversation\n",
    "from pydantic_ai.messages import ModelMessagesTypeAdapter\n",
    "\n",
    "conversation = Conversation.objects.get(uuid=\"cc601b63-33cb-4819-8994-c708054f82df\")\n",
    "print(conversation.latest_response())\n",
    "\n",
    "messages = conversation.get_ordered_messages()\n",
    "print(conversation.chat_display())\n",
    "# print(ModelMessagesTypeAdapter.validate_python(list(conversation.message_list)))\n"
   ]
  },
  {
   "cell_type": "code",
   "execution_count": 9,
   "id": "1744c0b8",
   "metadata": {},
   "outputs": [
    {
     "data": {
      "text/html": [
       "<pre style=\"white-space:pre;overflow-x:auto;line-height:normal;font-family:Menlo,'DejaVu Sans Mono',consolas,'Courier New',monospace\"><span style=\"color: #7fbfbf; text-decoration-color: #7fbfbf\">[09/25/25 14:26:06] </span><span style=\"color: #000080; text-decoration-color: #000080\">INFO    </span> <span style=\"color: #800080; text-decoration-color: #800080; font-weight: bold\">StoryService.story_obj</span><span style=\"font-weight: bold\">(</span><span style=\"color: #ffff00; text-decoration-color: #ffff00\">c0b3844a-ba34-4541-a265-b52f4d99470a</span><span style=\"font-weight: bold\">)</span>            <a href=\"file:///Users/travis/Projects/story-sprout/src/apps/stories/services.py\" target=\"_blank\"><span style=\"color: #7f7f7f; text-decoration-color: #7f7f7f\">services.py</span></a><span style=\"color: #7f7f7f; text-decoration-color: #7f7f7f\">:</span><a href=\"file:///Users/travis/Projects/story-sprout/src/apps/stories/services.py#99\" target=\"_blank\"><span style=\"color: #7f7f7f; text-decoration-color: #7f7f7f\">99</span></a>\n",
       "</pre>\n"
      ],
      "text/plain": [
       "\u001b[2;36m[09/25/25 14:26:06]\u001b[0m\u001b[2;36m \u001b[0m\u001b[34mINFO    \u001b[0m \u001b[1;35mStoryService.story_obj\u001b[0m\u001b[1m(\u001b[0m\u001b[93mc0b3844a-ba34-4541-a265-b52f4d99470a\u001b[0m\u001b[1m)\u001b[0m            \u001b]8;id=587720;file:///Users/travis/Projects/story-sprout/src/apps/stories/services.py\u001b\\\u001b[2mservices.py\u001b[0m\u001b]8;;\u001b\\\u001b[2m:\u001b[0m\u001b]8;id=117265;file:///Users/travis/Projects/story-sprout/src/apps/stories/services.py#99\u001b\\\u001b[2m99\u001b[0m\u001b]8;;\u001b\\\n"
      ]
     },
     "metadata": {},
     "output_type": "display_data"
    }
   ],
   "source": [
    "from django_eventstream import send_event\n",
    "from apps.common.sse import send_template\n",
    "\n",
    "story = deps.story_service.get_story()\n",
    "\n",
    "send_template(\n",
    "    story.channel,\n",
    "    \"ai-panel-content\",\n",
    "    \"cotton/ai/panel/content/index.html\",\n",
    "    {\n",
    "        \"prompt\": \"tttt?\",\n",
    "        \"chips\": [\n",
    "            {\"emoji\": \"🌮\", \"color\": \"red\", \"text\": \"taco time!\"},\n",
    "            # {\"emoji\": \"🗞\", \"color\": \"amber\", \"text\": \"Outline story!\"},\n",
    "        ],\n",
    "        \"freeform\": False,\n",
    "    },\n",
    ")\n",
    "\n",
    "# send_event(\n",
    "#     story.channel,\n",
    "#     \"oob-swap\",\n",
    "#     \"\"\"\n",
    "#         '<div id=\"ai-prompt\" hx-swap-oob=\"outerHTML\" class=\"p-2\"><p>🌮 taco time!!!</p></div>',\n",
    "#     \"\"\",\n",
    "# )\n"
   ]
  }
 ],
 "metadata": {
  "kernelspec": {
   "display_name": ".venv",
   "language": "python",
   "name": "python3"
  },
  "language_info": {
   "codemirror_mode": {
    "name": "ipython",
    "version": 3
   },
   "file_extension": ".py",
   "mimetype": "text/x-python",
   "name": "python",
   "nbconvert_exporter": "python",
   "pygments_lexer": "ipython3",
   "version": "3.13.1"
  }
 },
 "nbformat": 4,
 "nbformat_minor": 5
}
