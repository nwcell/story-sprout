{
 "cells": [
  {
   "cell_type": "code",
   "execution_count": 1,
   "id": "6891e714",
   "metadata": {},
   "outputs": [],
   "source": [
    "%reload_ext autoreload\n",
    "%autoreload 2"
   ]
  },
  {
   "cell_type": "code",
   "execution_count": 2,
   "id": "003b2cfe",
   "metadata": {},
   "outputs": [
    {
     "name": "stdout",
     "output_type": "stream",
     "text": [
      "Using direct template loaders for development\n"
     ]
    },
    {
     "data": {
      "text/html": [
       "<pre style=\"white-space:pre;overflow-x:auto;line-height:normal;font-family:Menlo,'DejaVu Sans Mono',consolas,'Courier New',monospace\"><span style=\"color: #7fbfbf; text-decoration-color: #7fbfbf\">[09/27/25 19:56:01] </span><span style=\"color: #000080; text-decoration-color: #000080\">INFO    </span> Django environment loaded successfully                                    <a href=\"file:///Users/travis/Projects/story-sprout/notebooks/_setup.py\" target=\"_blank\"><span style=\"color: #7f7f7f; text-decoration-color: #7f7f7f\">_setup.py</span></a><span style=\"color: #7f7f7f; text-decoration-color: #7f7f7f\">:</span><a href=\"file:///Users/travis/Projects/story-sprout/notebooks/_setup.py#35\" target=\"_blank\"><span style=\"color: #7f7f7f; text-decoration-color: #7f7f7f\">35</span></a>\n",
       "</pre>\n"
      ],
      "text/plain": [
       "\u001b[2;36m[09/27/25 19:56:01]\u001b[0m\u001b[2;36m \u001b[0m\u001b[34mINFO    \u001b[0m Django environment loaded successfully                                    \u001b]8;id=167679;file:///Users/travis/Projects/story-sprout/notebooks/_setup.py\u001b\\\u001b[2m_setup.py\u001b[0m\u001b]8;;\u001b\\\u001b[2m:\u001b[0m\u001b]8;id=639863;file:///Users/travis/Projects/story-sprout/notebooks/_setup.py#35\u001b\\\u001b[2m35\u001b[0m\u001b]8;;\u001b\\\n"
      ]
     },
     "metadata": {},
     "output_type": "display_data"
    }
   ],
   "source": [
    "from _setup import setup\n",
    "\n",
    "setup()"
   ]
  },
  {
   "cell_type": "code",
   "execution_count": 3,
   "id": "8e3683cf",
   "metadata": {},
   "outputs": [],
   "source": [
    "from apps.ai.services import ConversationService\n",
    "\n",
    "conversation_service = ConversationService(uuid=\"7bb1e6e6-064d-4c69-ae17-8c34cb979625\")"
   ]
  },
  {
   "cell_type": "code",
   "execution_count": 9,
   "id": "51958fd1",
   "metadata": {},
   "outputs": [
    {
     "data": {
      "text/html": [
       "<pre style=\"white-space:pre;overflow-x:auto;line-height:normal;font-family:Menlo,'DejaVu Sans Mono',consolas,'Courier New',monospace\"><span style=\"color: #7fbfbf; text-decoration-color: #7fbfbf\">[09/27/25 20:10:37] </span><span style=\"color: #000080; text-decoration-color: #000080\">INFO    </span> Sending chat response for conversation                                 <a href=\"file:///Users/travis/Projects/story-sprout/src/apps/ai/services.py\" target=\"_blank\"><span style=\"color: #7f7f7f; text-decoration-color: #7f7f7f\">services.py</span></a><span style=\"color: #7f7f7f; text-decoration-color: #7f7f7f\">:</span><a href=\"file:///Users/travis/Projects/story-sprout/src/apps/ai/services.py#101\" target=\"_blank\"><span style=\"color: #7f7f7f; text-decoration-color: #7f7f7f\">101</span></a>\n",
       "<span style=\"color: #7fbfbf; text-decoration-color: #7fbfbf\">                    </span>         <span style=\"color: #ffff00; text-decoration-color: #ffff00\">7bb1e6e6-064d-4c69-ae17-8c34cb979625</span>: <span style=\"color: #008080; text-decoration-color: #008080; font-weight: bold\">13</span> chars, <span style=\"color: #008080; text-decoration-color: #008080; font-weight: bold\">1</span> chips                <span style=\"color: #7f7f7f; text-decoration-color: #7f7f7f\">               </span>\n",
       "</pre>\n"
      ],
      "text/plain": [
       "\u001b[2;36m[09/27/25 20:10:37]\u001b[0m\u001b[2;36m \u001b[0m\u001b[34mINFO    \u001b[0m Sending chat response for conversation                                 \u001b]8;id=282563;file:///Users/travis/Projects/story-sprout/src/apps/ai/services.py\u001b\\\u001b[2mservices.py\u001b[0m\u001b]8;;\u001b\\\u001b[2m:\u001b[0m\u001b]8;id=858284;file:///Users/travis/Projects/story-sprout/src/apps/ai/services.py#101\u001b\\\u001b[2m101\u001b[0m\u001b]8;;\u001b\\\n",
       "\u001b[2;36m                    \u001b[0m         \u001b[93m7bb1e6e6-064d-4c69-ae17-8c34cb979625\u001b[0m: \u001b[1;36m13\u001b[0m chars, \u001b[1;36m1\u001b[0m chips                \u001b[2m               \u001b[0m\n"
      ]
     },
     "metadata": {},
     "output_type": "display_data"
    }
   ],
   "source": [
    "from apps.ai.types import ChatResponse, Chip\n",
    "\n",
    "conversation_service.send_chat_response(\n",
    "    ChatResponse(message=\"Hello, world!\", chips=[Chip(emoji=\"🌟\", color=\"sky\", value=\"Cook up something new\")])\n",
    ")"
   ]
  },
  {
   "cell_type": "code",
   "execution_count": 10,
   "id": "42dfd9d6",
   "metadata": {},
   "outputs": [
    {
     "data": {
      "text/html": [
       "<pre style=\"white-space:pre;overflow-x:auto;line-height:normal;font-family:Menlo,'DejaVu Sans Mono',consolas,'Courier New',monospace\"><span style=\"color: #7fbfbf; text-decoration-color: #7fbfbf\">[09/27/25 20:10:48] </span><span style=\"color: #000080; text-decoration-color: #000080\">INFO    </span> Syncing chat display for conversation <span style=\"color: #ffff00; text-decoration-color: #ffff00\">7bb1e6e6-064d-4c69-ae17-8c34cb979625</span> <a href=\"file://<string>\" target=\"_blank\"><span style=\"color: #7f7f7f; text-decoration-color: #7f7f7f\">&lt;string&gt;</span></a><span style=\"color: #7f7f7f; text-decoration-color: #7f7f7f\">:</span><a href=\"file://<string>#10\" target=\"_blank\"><span style=\"color: #7f7f7f; text-decoration-color: #7f7f7f\">10</span></a>\n",
       "</pre>\n"
      ],
      "text/plain": [
       "\u001b[2;36m[09/27/25 20:10:48]\u001b[0m\u001b[2;36m \u001b[0m\u001b[34mINFO    \u001b[0m Syncing chat display for conversation \u001b[93m7bb1e6e6-064d-4c69-ae17-8c34cb979625\u001b[0m \u001b]8;id=457118;file://<string>\u001b\\\u001b[2m<string>\u001b[0m\u001b]8;;\u001b\\\u001b[2m:\u001b[0m\u001b]8;id=698004;file://<string>#10\u001b\\\u001b[2m10\u001b[0m\u001b]8;;\u001b\\\n"
      ]
     },
     "metadata": {},
     "output_type": "display_data"
    },
    {
     "data": {
      "text/html": [
       "<pre style=\"white-space:pre;overflow-x:auto;line-height:normal;font-family:Menlo,'DejaVu Sans Mono',consolas,'Courier New',monospace\"><span style=\"color: #7fbfbf; text-decoration-color: #7fbfbf\">                    </span><span style=\"color: #000080; text-decoration-color: #000080\">INFO    </span> Sending chat response for conversation                                 <a href=\"file:///Users/travis/Projects/story-sprout/src/apps/ai/services.py\" target=\"_blank\"><span style=\"color: #7f7f7f; text-decoration-color: #7f7f7f\">services.py</span></a><span style=\"color: #7f7f7f; text-decoration-color: #7f7f7f\">:</span><a href=\"file:///Users/travis/Projects/story-sprout/src/apps/ai/services.py#101\" target=\"_blank\"><span style=\"color: #7f7f7f; text-decoration-color: #7f7f7f\">101</span></a>\n",
       "<span style=\"color: #7fbfbf; text-decoration-color: #7fbfbf\">                    </span>         <span style=\"color: #ffff00; text-decoration-color: #ffff00\">7bb1e6e6-064d-4c69-ae17-8c34cb979625</span>: <span style=\"color: #008080; text-decoration-color: #008080; font-weight: bold\">26</span> chars, <span style=\"color: #008080; text-decoration-color: #008080; font-weight: bold\">3</span> chips                <span style=\"color: #7f7f7f; text-decoration-color: #7f7f7f\">               </span>\n",
       "</pre>\n"
      ],
      "text/plain": [
       "\u001b[2;36m                   \u001b[0m\u001b[2;36m \u001b[0m\u001b[34mINFO    \u001b[0m Sending chat response for conversation                                 \u001b]8;id=588877;file:///Users/travis/Projects/story-sprout/src/apps/ai/services.py\u001b\\\u001b[2mservices.py\u001b[0m\u001b]8;;\u001b\\\u001b[2m:\u001b[0m\u001b]8;id=225478;file:///Users/travis/Projects/story-sprout/src/apps/ai/services.py#101\u001b\\\u001b[2m101\u001b[0m\u001b]8;;\u001b\\\n",
       "\u001b[2;36m                    \u001b[0m         \u001b[93m7bb1e6e6-064d-4c69-ae17-8c34cb979625\u001b[0m: \u001b[1;36m26\u001b[0m chars, \u001b[1;36m3\u001b[0m chips                \u001b[2m               \u001b[0m\n"
      ]
     },
     "metadata": {},
     "output_type": "display_data"
    }
   ],
   "source": [
    "conversation_service.sync_chat_display()"
   ]
  }
 ],
 "metadata": {
  "kernelspec": {
   "display_name": ".venv",
   "language": "python",
   "name": "python3"
  },
  "language_info": {
   "codemirror_mode": {
    "name": "ipython",
    "version": 3
   },
   "file_extension": ".py",
   "mimetype": "text/x-python",
   "name": "python",
   "nbconvert_exporter": "python",
   "pygments_lexer": "ipython3",
   "version": "3.13.1"
  }
 },
 "nbformat": 4,
 "nbformat_minor": 5
}
